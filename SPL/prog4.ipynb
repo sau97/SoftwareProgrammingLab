{
 "cells": [
  {
   "cell_type": "code",
   "execution_count": 28,
   "metadata": {},
   "outputs": [],
   "source": [
    "w=[[3,4,6],[4,5,7],[3,4,6],[7,10,15],[5,7,10]]"
   ]
  },
  {
   "cell_type": "code",
   "execution_count": 2,
   "metadata": {},
   "outputs": [],
   "source": [
    "z=[]\n",
    "f=[]\n",
    "x=[]"
   ]
  },
  {
   "cell_type": "code",
   "execution_count": 29,
   "metadata": {},
   "outputs": [],
   "source": [
    "z=[]\n",
    "x=[]"
   ]
  },
  {
   "cell_type": "code",
   "execution_count": 30,
   "metadata": {},
   "outputs": [
    {
     "name": "stdout",
     "output_type": "stream",
     "text": [
      "Enter User Inputs & its complexity factor (0 for low, 1 for avg, 2 for high) :0 1\n",
      "Enter User Output & its complexity factor (0 for low, 1 for avg, 2 for high) : 0 2\n",
      "Enter User Inquires & its complexity factor (0 for low, 1 for avg, 2 for high) : 1 1\n",
      "Enter Logical Files & its complexity factor (0 for low, 1 for avg, 2 for high) : 1 2\n",
      "Enter Interface files & its complexity factor (0 for low, 1 for avg, 2 for high) : 2 1\n"
     ]
    }
   ],
   "source": [
    "a,b=(input('Enter User Inputs & its complexity factor (0 for low, 1 for avg, 2 for high) :').split(' '))\n",
    "z.append(int(a)) # 0\n",
    "x.append(int(b)) # 1\n",
    "a,b=(input('Enter User Output & its complexity factor (0 for low, 1 for avg, 2 for high) : ').split(' '))\n",
    "z.append(int(a)) # 0\n",
    "x.append(int(b))# 2\n",
    "a,b=(input('Enter User Inquires & its complexity factor (0 for low, 1 for avg, 2 for high) : ').split(' '))\n",
    "z.append(int(a))# 1\n",
    "x.append(int(b))# 1\n",
    "a,b=(input('Enter Logical Files & its complexity factor (0 for low, 1 for avg, 2 for high) : ').split(' '))\n",
    "z.append(int(a))# 1\n",
    "x.append(int(b))#2\n",
    "a,b=(input('Enter Interface files & its complexity factor (0 for low, 1 for avg, 2 for high) : ').split(' '))\n",
    "z.append(int(a)) # 2\n",
    "x.append(int(b))# 1\n"
   ]
  },
  {
   "cell_type": "code",
   "execution_count": 35,
   "metadata": {},
   "outputs": [
    {
     "name": "stdout",
     "output_type": "stream",
     "text": [
      "enter 14 factor in order:\n",
      "1\n",
      "2\n",
      "3\n",
      "4\n",
      "5\n",
      "6\n",
      "7\n",
      "8\n",
      "9\n",
      "10\n",
      "11\n",
      "12\n",
      "13\n",
      "14\n"
     ]
    }
   ],
   "source": [
    "print('enter 14 factor in order:')\n",
    "for i in range(14):\n",
    "    a=input();\n",
    "    f.append(int(a))"
   ]
  },
  {
   "cell_type": "code",
   "execution_count": 36,
   "metadata": {},
   "outputs": [
    {
     "data": {
      "text/plain": [
       "[[3, 4, 6], [4, 5, 7], [3, 4, 6], [7, 10, 15], [5, 7, 10]]"
      ]
     },
     "execution_count": 36,
     "metadata": {},
     "output_type": "execute_result"
    }
   ],
   "source": [
    "w"
   ]
  },
  {
   "cell_type": "code",
   "execution_count": 37,
   "metadata": {},
   "outputs": [
    {
     "data": {
      "text/plain": [
       "[0, 0, 1, 1, 2]"
      ]
     },
     "execution_count": 37,
     "metadata": {},
     "output_type": "execute_result"
    }
   ],
   "source": [
    "z"
   ]
  },
  {
   "cell_type": "code",
   "execution_count": 44,
   "metadata": {},
   "outputs": [
    {
     "data": {
      "text/plain": [
       "0"
      ]
     },
     "execution_count": 44,
     "metadata": {},
     "output_type": "execute_result"
    }
   ],
   "source": [
    "z[1]"
   ]
  },
  {
   "cell_type": "code",
   "execution_count": 38,
   "metadata": {},
   "outputs": [
    {
     "data": {
      "text/plain": [
       "[1, 2, 1, 2, 1]"
      ]
     },
     "execution_count": 38,
     "metadata": {},
     "output_type": "execute_result"
    }
   ],
   "source": [
    "x"
   ]
  },
  {
   "cell_type": "code",
   "execution_count": 45,
   "metadata": {},
   "outputs": [
    {
     "name": "stdout",
     "output_type": "stream",
     "text": [
      "caf= 1.7000000000000002\n",
      "ufp= 33\n"
     ]
    }
   ],
   "source": [
    "temp=0;\n",
    "for i in range(14):\n",
    "    temp+=f[i-1]\n",
    "    caf=0.65+0.01*temp\n",
    "print('caf=',caf)\n",
    "ufp=0;\n",
    "for i in range(5):\n",
    "    ufp+=w[i-1][x[i-1]]*z[i-1]\n",
    "print('ufp=',ufp)\n"
   ]
  },
  {
   "cell_type": "code",
   "execution_count": 46,
   "metadata": {},
   "outputs": [
    {
     "name": "stdout",
     "output_type": "stream",
     "text": [
      "fn pt value= 56.10000000000001\n"
     ]
    }
   ],
   "source": [
    "print('fn pt value=',caf*ufp)"
   ]
  },
  {
   "cell_type": "code",
   "execution_count": null,
   "metadata": {},
   "outputs": [],
   "source": []
  }
 ],
 "metadata": {
  "kernelspec": {
   "display_name": "Python 3",
   "language": "python",
   "name": "python3"
  },
  "language_info": {
   "codemirror_mode": {
    "name": "ipython",
    "version": 3
   },
   "file_extension": ".py",
   "mimetype": "text/x-python",
   "name": "python",
   "nbconvert_exporter": "python",
   "pygments_lexer": "ipython3",
   "version": "3.6.5"
  }
 },
 "nbformat": 4,
 "nbformat_minor": 2
}
