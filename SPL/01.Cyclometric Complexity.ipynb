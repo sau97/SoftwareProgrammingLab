{
 "cells": [
  {
   "cell_type": "code",
   "execution_count": 1,
   "metadata": {},
   "outputs": [
    {
     "name": "stdout",
     "output_type": "stream",
     "text": [
      "The Cyclomatic Complexity by Predicate Node method is :  3\n"
     ]
    }
   ],
   "source": [
    "f = open('sampleCode.cpp','r')\n",
    "codes = f.readlines()\n",
    "\n",
    "count=0\n",
    "for line in codes:\n",
    "    if(\"if\" in line):\n",
    "        count+=1\n",
    "    if(\"for\" in line):\n",
    "        count+=1\n",
    "    if(\"while\" in line):\n",
    "        count+=1\n",
    "    if(\"switch\" in line):\n",
    "        count+=1\n",
    "\n",
    "print(\"The Cyclomatic Complexity by Predicate Node method is : \",count+1)"
   ]
  },
  {
   "cell_type": "code",
   "execution_count": null,
   "metadata": {},
   "outputs": [],
   "source": []
  }
 ],
 "metadata": {
  "kernelspec": {
   "display_name": "Python 3",
   "language": "python",
   "name": "python3"
  },
  "language_info": {
   "codemirror_mode": {
    "name": "ipython",
    "version": 3
   },
   "file_extension": ".py",
   "mimetype": "text/x-python",
   "name": "python",
   "nbconvert_exporter": "python",
   "pygments_lexer": "ipython3",
   "version": "3.6.5"
  }
 },
 "nbformat": 4,
 "nbformat_minor": 2
}
