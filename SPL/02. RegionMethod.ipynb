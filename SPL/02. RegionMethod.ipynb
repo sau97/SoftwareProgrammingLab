{
 "cells": [
  {
   "cell_type": "code",
   "execution_count": 1,
   "metadata": {},
   "outputs": [
    {
     "name": "stdout",
     "output_type": "stream",
     "text": [
      "Number of Regions =  3\n",
      "Hence Cyclomatic Complexity =  3\n"
     ]
    }
   ],
   "source": [
    "adjacency_mat = {}\n",
    "stack = []\n",
    "\n",
    "lines = []\n",
    "f = open('sampleCode.cpp','r')\n",
    "lines = f.readlines()\n",
    "\n",
    "def isBranchingStatement(line_num):\n",
    "    if(\"if\" in lines[line_num]):\n",
    "        return True\n",
    "    if(\"for\" in lines[line_num]):\n",
    "        return True\n",
    "    if(\"while\" in lines[line_num]):\n",
    "        return True\n",
    "    return False\n",
    "\n",
    "numRegions=1\n",
    "for i in range(0, len(lines)):\n",
    "    if(\"else if\" in lines[i]):\n",
    "        numRegions+=1\n",
    "        continue\n",
    "    if(\"if\" in lines[i]):\n",
    "        numRegions+=1\n",
    "        continue\n",
    "    if(\"for\" in lines[i]):\n",
    "        numRegions+=1\n",
    "    if(\"while\" in lines[i]):\n",
    "        numRegions+=1\n",
    "print(\"Number of Regions = \",numRegions)\n",
    "print(\"Hence Cyclomatic Complexity = \",numRegions)"
   ]
  },
  {
   "cell_type": "code",
   "execution_count": null,
   "metadata": {},
   "outputs": [],
   "source": []
  }
 ],
 "metadata": {
  "kernelspec": {
   "display_name": "Python 3",
   "language": "python",
   "name": "python3"
  },
  "language_info": {
   "codemirror_mode": {
    "name": "ipython",
    "version": 3
   },
   "file_extension": ".py",
   "mimetype": "text/x-python",
   "name": "python",
   "nbconvert_exporter": "python",
   "pygments_lexer": "ipython3",
   "version": "3.6.5"
  }
 },
 "nbformat": 4,
 "nbformat_minor": 2
}
